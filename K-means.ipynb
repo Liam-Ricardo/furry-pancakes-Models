{
 "cells": [
  {
   "cell_type": "code",
   "execution_count": 3,
   "metadata": {},
   "outputs": [
    {
     "name": "stdout",
     "output_type": "stream",
     "text": [
      "1        \t69670\t0.669\t0.709\t0.689\t0.555\t0.685\t0.140\n"
     ]
    }
   ],
   "source": [
    "import numpy as np\n",
    "import sklearn\n",
    "from sklearn.preprocessing import scale\n",
    "from sklearn.datasets import load_digits\n",
    "from sklearn.cluster import KMeans\n",
    "from sklearn import metrics\n",
    "\n",
    "digits = load_digits()\n",
    "data = scale(digits.data) #scale all our features down so they are in the range of -1 to 1, to save computational time\n",
    "\n",
    "y = digits.target\n",
    "k= 10 #np.unique.count(y) #dynamic way\n",
    "#print(k)\n",
    "samples, features = data.shape\n",
    "\n",
    "def bench_k_means(estimator, name, data):\n",
    "    estimator.fit(data)\n",
    "    print('%-9s\\t%i\\t%.3f\\t%.3f\\t%.3f\\t%.3f\\t%.3f\\t%.3f'\n",
    "        % (name, estimator.inertia_,\n",
    "            metrics.homogeneity_score(y, estimator.labels_),\n",
    "            metrics.completeness_score(y, estimator.labels_),\n",
    "            metrics.v_measure_score(y, estimator.labels_),\n",
    "            metrics.adjusted_rand_score(y, estimator.labels_),\n",
    "            metrics.adjusted_mutual_info_score(y,  estimator.labels_),\n",
    "            metrics.silhouette_score(data, estimator.labels_,\n",
    "                                    metric='euclidean')))\n",
    "\n",
    "clf = KMeans(n_clusters=k, init=\"k-means++\", n_init=10)\n",
    "bench_k_means(clf, \"1\", data)"
   ]
  }
 ],
 "metadata": {
  "kernelspec": {
   "display_name": ".venv",
   "language": "python",
   "name": "python3"
  },
  "language_info": {
   "codemirror_mode": {
    "name": "ipython",
    "version": 3
   },
   "file_extension": ".py",
   "mimetype": "text/x-python",
   "name": "python",
   "nbconvert_exporter": "python",
   "pygments_lexer": "ipython3",
   "version": "3.10.13"
  }
 },
 "nbformat": 4,
 "nbformat_minor": 2
}
